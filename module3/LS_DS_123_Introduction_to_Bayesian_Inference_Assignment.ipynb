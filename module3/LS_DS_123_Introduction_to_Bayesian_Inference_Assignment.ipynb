{
  "nbformat": 4,
  "nbformat_minor": 0,
  "metadata": {
    "colab": {
      "name": "LS_DS_123_Introduction_to_Bayesian_Inference_Assignment.ipynb",
      "provenance": []
    },
    "kernelspec": {
      "name": "python3",
      "display_name": "Python 3"
    }
  },
  "cells": [
    {
      "cell_type": "markdown",
      "metadata": {
        "id": "H7OLbevlbd_Z",
        "colab_type": "text"
      },
      "source": [
        "# Lambda School Data Science Module 123\n",
        "\n",
        "## Introduction to Bayesian Inference\n",
        "\n",
        "\n"
      ]
    },
    {
      "cell_type": "markdown",
      "metadata": {
        "id": "P-DzzRk5bf0z",
        "colab_type": "text"
      },
      "source": [
        "## Assignment - Code it up!\n",
        "\n",
        "We used pure math to apply Bayes Theorem to drug tests. Now write Python code to reproduce the results! This is purposefully open ended - you'll have to think about how you should represent probabilities and events. You can and should look things up.\n",
        "\n",
        "Specific goals/targets:\n",
        "\n",
        "### 1) Write a function \n",
        "\n",
        "`def prob_drunk_given_positive(prob_drunk_prior, false_positive_rate):` \n",
        "\n",
        "You should only truly need these two values in order to apply Bayes Theorem. In this example, imagine that individuals are taking a breathalyzer test with an 8% false positive rate, a 100% true positive rate, and that our prior belief about drunk driving in the population is 1/1000. \n",
        " - What is the probability that a person is drunk after one positive breathalyzer test?\n",
        " - What is the probability that a person is drunk after two positive breathalyzer tests?\n",
        " - How many positive breathalyzer tests are needed in order to have a probability that's greater than 95% that a person is drunk beyond the legal limit?\n",
        "\n",
        "### 2) Explore `scipy.stats.bayes_mvs`  \n",
        "Read its documentation, and experiment with it on data you've tested in other ways earlier this week.\n",
        " - Create a visualization comparing the results of a Bayesian approach to a traditional/frequentist approach. (with a large sample size they should look close to identical, however, take this opportunity to practice visualizing condfidence intervals in general. The following are some potential ways that you could visualize confidence intervals on your graph:\n",
        "  - [Matplotlib Error Bars](https://matplotlib.org/3.1.1/api/_as_gen/matplotlib.pyplot.errorbar.html)\n",
        "  - [Seaborn barplot with error bars](https://seaborn.pydata.org/generated/seaborn.barplot.html)\n",
        "  - [Vertical ines to show bounds of confidence interval](https://www.simplypsychology.org/confidence-interval.jpg)\n",
        "  - [Confidence Intervals on Box Plots](https://matplotlib.org/3.1.1/api/_as_gen/matplotlib.axes.Axes.boxplot.html)\n",
        "\n",
        "### 3) In your own words, summarize the difference between Bayesian and Frequentist statistics\n",
        "\n",
        "If you're unsure where to start, check out [this blog post of Bayes theorem with Python](https://dataconomy.com/2015/02/introduction-to-bayes-theorem-with-python/).\n",
        "\n"
      ]
    },
    {
      "cell_type": "code",
      "metadata": {
        "id": "xpVhZyUnbf7o",
        "colab_type": "code",
        "outputId": "e64bfa1b-0d52-4ffb-cd92-5baa355bc709",
        "colab": {
          "base_uri": "https://localhost:8080/",
          "height": 34
        }
      },
      "source": [
        "# TODO - code!\n",
        "\n",
        "#Probability that person is drunk given a positive test result\n",
        "def prob_drunk_given_positive(prob_drunk_prior, false_positive_rate):\n",
        "  \n",
        "  \n",
        "    true_positive_rate=1-false_positive_rate #1-(1/1000)\n",
        "    prob_sober_prior=1-prob_drunk_prior #1-0.08\n",
        "\n",
        "    prob_drunk = (1.0*prob_drunk_prior)/ \\\n",
        "    (1.0*prob_drunk_prior+(1-prob_drunk_prior)*false_positive_rate)\n",
        "\n",
        "    return prob_drunk\n",
        "\n",
        "\n",
        "#Two positives\n",
        "def prob_drunk_given_two_positives(prob_drunk_prior, false_positive_rate):\n",
        "  \n",
        "    count=0\n",
        "    while count<2:\n",
        "      \n",
        "      true_positive_rate=1-false_positive_rate #1-(1/1000)\n",
        "      prob_sober_prior=1-prob_drunk_prior #1-0.08\n",
        "\n",
        "      prob_drunk = (1.0*prob_drunk_prior)/ \\\n",
        "      (1.0*prob_drunk_prior+(1-prob_drunk_prior)*false_positive_rate)\n",
        "\n",
        "      prob_drunk_prior=prob_drunk\n",
        "\n",
        "      count=count+1\n",
        "\n",
        "    return prob_drunk\n",
        "\n",
        "#Number of tests to get to 95% confidence\n",
        "def tests_for_95_confidence(prob_drunk_prior, false_positive_rate):\n",
        "  \n",
        "  \n",
        "  percent_diff=10\n",
        "  count=0\n",
        "  while percent_diff>0.05:\n",
        "    count=count+1\n",
        "    prob_drunk=prob_drunk_prior\n",
        "\n",
        "    true_positive_rate=1-false_positive_rate #1-(1/1000)\n",
        "    prob_sober_prior=1-prob_drunk_prior #1-0.08\n",
        "\n",
        "    prob_drunk = (1.0*prob_drunk_prior)/ \\\n",
        "    (1.0*prob_drunk_prior+(1-prob_drunk_prior)*false_positive_rate)\n",
        "\n",
        "    percent_diff=abs(prob_drunk-prob_drunk_prior)/prob_drunk_prior\n",
        "\n",
        "    prob_drunk_prior=prob_drunk\n",
        "\n",
        "  return count\n",
        "\n",
        "prob_drunk_given_positive(0.001, 0.08)      #percent chance drunk if \n",
        "                                            #positive result\n",
        "\n",
        "prob_drunk_given_two_positives(0.001, 0.08) #percent chance drunk if 2 \n",
        "                                            #positive results\n",
        "\n",
        "#tests_for_95_confidence(0.001, 0.08)        #number of tests needed to get to \n",
        "                                            #95% confidence\n",
        "\n",
        "\n"
      ],
      "execution_count": 1,
      "outputs": [
        {
          "output_type": "execute_result",
          "data": {
            "text/plain": [
              "0.13525210993291495"
            ]
          },
          "metadata": {
            "tags": []
          },
          "execution_count": 1
        }
      ]
    },
    {
      "cell_type": "code",
      "metadata": {
        "id": "7OI5srDIOqpl",
        "colab_type": "code",
        "colab": {
          "base_uri": "https://localhost:8080/",
          "height": 68
        },
        "outputId": "51aad791-7d13-4df4-ae8f-6b3d97e79b92"
      },
      "source": [
        "import numpy as np\n",
        "import matplotlib.pyplot as plt\n",
        "import pandas as pd\n",
        "import scipy.stats as ss\n",
        "\n",
        "\n",
        "\n",
        "sample_means_small = []\n",
        "sample_means_large = []\n",
        "for x in range(0,3000):\n",
        "  coinflips_small = np.random.binomial(n=1, p=.5, size=20)\n",
        "  coinflips_large = np.random.binomial(n=1, p=.5, size=100)\n",
        "  one_small_sample = coinflips_small\n",
        "  one_small_large = coinflips_large\n",
        "  sample_means_small.append(coinflips_small.mean())\n",
        "  sample_means_large.append(coinflips_large.mean())\n",
        "\n",
        "ss.bayes_mvs(sample_means_small)\n"
      ],
      "execution_count": 6,
      "outputs": [
        {
          "output_type": "execute_result",
          "data": {
            "text/plain": [
              "(Mean(statistic=0.49925, minmax=(0.49588459515581956, 0.5026154048441805)),\n",
              " Variance(statistic=0.012558604166666666, minmax=(0.01202524102599585, 0.013091967307337481)),\n",
              " Std_dev(statistic=0.11206517820744616, minmax=(0.10968547762068809, 0.11444487879420423)))"
            ]
          },
          "metadata": {
            "tags": []
          },
          "execution_count": 6
        }
      ]
    },
    {
      "cell_type": "code",
      "metadata": {
        "id": "Ifh9H5ddOtJb",
        "colab_type": "code",
        "colab": {
          "base_uri": "https://localhost:8080/",
          "height": 265
        },
        "outputId": "392756d6-b618-4d11-96e1-9af5234eaef2"
      },
      "source": [
        "import matplotlib.pyplot as plt\n",
        "import seaborn as sns\n",
        "fix, ax = plt.subplots()\n",
        "for sample in [sample_means_small, sample_means_large]:\n",
        "  sns.distplot(sample)"
      ],
      "execution_count": 7,
      "outputs": [
        {
          "output_type": "display_data",
          "data": {
            "image/png": "[encoded data removed]",
            "text/plain": [
              "<Figure size 432x288 with 1 Axes>"
            ]
          },
          "metadata": {
            "tags": []
          }
        }
      ]
    },
    {
      "cell_type": "code",
      "metadata": {
        "id": "pi_FGBi0OwPL",
        "colab_type": "code",
        "colab": {}
      },
      "source": [
        "#frequentist makes predictions based on the results of the data only\n",
        "\n",
        "#Bayesian makes predicitions incorporating some initial assumptions"
      ],
      "execution_count": 0,
      "outputs": []
    },
    {
      "cell_type": "markdown",
      "metadata": {
        "id": "uWgWjp3PQ3Sq",
        "colab_type": "text"
      },
      "source": [
        "## Resources"
      ]
    },
    {
      "cell_type": "markdown",
      "metadata": {
        "id": "QRgHqmYIQ9qn",
        "colab_type": "text"
      },
      "source": [
        "- [Worked example of Bayes rule calculation](https://en.wikipedia.org/wiki/Bayes'_theorem#Examples) (helpful as it fully breaks out the denominator)\n",
        "- [Source code for mvsdist in scipy](https://github.com/scipy/scipy/blob/90534919e139d2a81c24bf08341734ff41a3db12/scipy/stats/morestats.py#L139)"
      ]
    },
    {
      "cell_type": "markdown",
      "metadata": {
        "id": "GP7Jv1XvwtkX",
        "colab_type": "text"
      },
      "source": [
        "## Stretch Goals:\n",
        "\n",
        "- Go back and study the content from Modules 1 & 2 to make sure that you're really comfortable with them.\n",
        "- Apply a Bayesian technique to a problem you previously worked (in an assignment or project work) on from a frequentist (standard) perspective\n",
        "- Check out [PyMC3](https://docs.pymc.io/) (note this goes beyond hypothesis tests into modeling) - read the guides and work through some examples\n",
        "- Take PyMC3 further - see if you can build something with it!"
      ]
    },
    {
      "cell_type": "code",
      "metadata": {
        "id": "iDi0eFr1x-v_",
        "colab_type": "code",
        "colab": {}
      },
      "source": [
        ""
      ],
      "execution_count": 0,
      "outputs": []
    }
  ]
}
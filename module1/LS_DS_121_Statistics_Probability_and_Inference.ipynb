{
  "nbformat": 4,
  "nbformat_minor": 0,
  "metadata": {
    "colab": {
      "name": "LS_DS_121_Statistics_Probability_and_Inference.ipynb",
      "provenance": []
    },
    "kernelspec": {
      "display_name": "Python 3",
      "language": "python",
      "name": "python3"
    },
    "language_info": {
      "codemirror_mode": {
        "name": "ipython",
        "version": 3
      },
      "file_extension": ".py",
      "mimetype": "text/x-python",
      "name": "python",
      "nbconvert_exporter": "python",
      "pygments_lexer": "ipython3",
      "version": "3.7.3"
    }
  },
  "cells": [
    {
      "cell_type": "markdown",
      "metadata": {
        "colab_type": "text",
        "id": "eJGtmni-DezY"
      },
      "source": [
        "<img align=\"left\" src=\"https://lever-client-logos.s3.amazonaws.com/864372b1-534c-480e-acd5-9711f850815c-1524247202159.png\" width=200>\n",
        "\n",
        "<br></br>\n",
        "<br></br>\n",
        "\n",
        "## *Data Science Unit 1 Sprint 2 Lesson 1*\n",
        "\n",
        "# Statistics, Probability and Inference\n",
        "\n",
        "## Learning Objectives\n",
        "* [Part 1](#p1): Normal Distribution Revisted\n",
        "* [Part 2](#p2): Student's T Test\n",
        "* [Part 3](#p3): Hypothesis Test & Doing it Live"
      ]
    },
    {
      "cell_type": "markdown",
      "metadata": {
        "id": "WOXkk77hbeP5",
        "colab_type": "text"
      },
      "source": [
        "## What is Descriptive Statistics?\n",
        "\n",
        "<https://statistics.laerd.com/statistical-guides/descriptive-inferential-statistics.php>"
      ]
    },
    {
      "cell_type": "code",
      "metadata": {
        "id": "aGsGGy4Mb9IG",
        "colab_type": "code",
        "outputId": "f2ee5cc5-4969-489c-c834-df4546a7d01d",
        "colab": {
          "base_uri": "https://localhost:8080/",
          "height": 204
        }
      },
      "source": [
        "import pandas as pd\n",
        "df = pd.DataFrame({'a': [1,2,3,4,5], 'b': [2,4,6,8,10]})\n",
        "df.head()"
      ],
      "execution_count": 1,
      "outputs": [
        {
          "output_type": "execute_result",
          "data": {
            "text/html": [
              "<div>\n",
              "<style scoped>\n",
              "    .dataframe tbody tr th:only-of-type {\n",
              "        vertical-align: middle;\n",
              "    }\n",
              "\n",
              "    .dataframe tbody tr th {\n",
              "        vertical-align: top;\n",
              "    }\n",
              "\n",
              "    .dataframe thead th {\n",
              "        text-align: right;\n",
              "    }\n",
              "</style>\n",
              "<table border=\"1\" class=\"dataframe\">\n",
              "  <thead>\n",
              "    <tr style=\"text-align: right;\">\n",
              "      <th></th>\n",
              "      <th>a</th>\n",
              "      <th>b</th>\n",
              "    </tr>\n",
              "  </thead>\n",
              "  <tbody>\n",
              "    <tr>\n",
              "      <th>0</th>\n",
              "      <td>1</td>\n",
              "      <td>2</td>\n",
              "    </tr>\n",
              "    <tr>\n",
              "      <th>1</th>\n",
              "      <td>2</td>\n",
              "      <td>4</td>\n",
              "    </tr>\n",
              "    <tr>\n",
              "      <th>2</th>\n",
              "      <td>3</td>\n",
              "      <td>6</td>\n",
              "    </tr>\n",
              "    <tr>\n",
              "      <th>3</th>\n",
              "      <td>4</td>\n",
              "      <td>8</td>\n",
              "    </tr>\n",
              "    <tr>\n",
              "      <th>4</th>\n",
              "      <td>5</td>\n",
              "      <td>10</td>\n",
              "    </tr>\n",
              "  </tbody>\n",
              "</table>\n",
              "</div>"
            ],
            "text/plain": [
              "   a   b\n",
              "0  1   2\n",
              "1  2   4\n",
              "2  3   6\n",
              "3  4   8\n",
              "4  5  10"
            ]
          },
          "metadata": {
            "tags": []
          },
          "execution_count": 1
        }
      ]
    },
    {
      "cell_type": "code",
      "metadata": {
        "id": "K-73WFB5cI1_",
        "colab_type": "code",
        "colab": {
          "base_uri": "https://localhost:8080/",
          "height": 297
        },
        "outputId": "b8b5a306-0bb9-45e0-ca37-0d06624e4b9d"
      },
      "source": [
        "# How can we quickly look at some descriptive statistics of the above dataframe?\n",
        "df.describe()"
      ],
      "execution_count": 2,
      "outputs": [
        {
          "output_type": "execute_result",
          "data": {
            "text/html": [
              "<div>\n",
              "<style scoped>\n",
              "    .dataframe tbody tr th:only-of-type {\n",
              "        vertical-align: middle;\n",
              "    }\n",
              "\n",
              "    .dataframe tbody tr th {\n",
              "        vertical-align: top;\n",
              "    }\n",
              "\n",
              "    .dataframe thead th {\n",
              "        text-align: right;\n",
              "    }\n",
              "</style>\n",
              "<table border=\"1\" class=\"dataframe\">\n",
              "  <thead>\n",
              "    <tr style=\"text-align: right;\">\n",
              "      <th></th>\n",
              "      <th>a</th>\n",
              "      <th>b</th>\n",
              "    </tr>\n",
              "  </thead>\n",
              "  <tbody>\n",
              "    <tr>\n",
              "      <th>count</th>\n",
              "      <td>5.000000</td>\n",
              "      <td>5.000000</td>\n",
              "    </tr>\n",
              "    <tr>\n",
              "      <th>mean</th>\n",
              "      <td>3.000000</td>\n",
              "      <td>6.000000</td>\n",
              "    </tr>\n",
              "    <tr>\n",
              "      <th>std</th>\n",
              "      <td>1.581139</td>\n",
              "      <td>3.162278</td>\n",
              "    </tr>\n",
              "    <tr>\n",
              "      <th>min</th>\n",
              "      <td>1.000000</td>\n",
              "      <td>2.000000</td>\n",
              "    </tr>\n",
              "    <tr>\n",
              "      <th>25%</th>\n",
              "      <td>2.000000</td>\n",
              "      <td>4.000000</td>\n",
              "    </tr>\n",
              "    <tr>\n",
              "      <th>50%</th>\n",
              "      <td>3.000000</td>\n",
              "      <td>6.000000</td>\n",
              "    </tr>\n",
              "    <tr>\n",
              "      <th>75%</th>\n",
              "      <td>4.000000</td>\n",
              "      <td>8.000000</td>\n",
              "    </tr>\n",
              "    <tr>\n",
              "      <th>max</th>\n",
              "      <td>5.000000</td>\n",
              "      <td>10.000000</td>\n",
              "    </tr>\n",
              "  </tbody>\n",
              "</table>\n",
              "</div>"
            ],
            "text/plain": [
              "              a          b\n",
              "count  5.000000   5.000000\n",
              "mean   3.000000   6.000000\n",
              "std    1.581139   3.162278\n",
              "min    1.000000   2.000000\n",
              "25%    2.000000   4.000000\n",
              "50%    3.000000   6.000000\n",
              "75%    4.000000   8.000000\n",
              "max    5.000000  10.000000"
            ]
          },
          "metadata": {
            "tags": []
          },
          "execution_count": 2
        }
      ]
    },
    {
      "cell_type": "markdown",
      "metadata": {
        "id": "wtobOQescQU6",
        "colab_type": "text"
      },
      "source": [
        "## What is Inferential Statistics?\n",
        "\n",
        "<https://slideplayer.com/slide/5130463/16/images/2/Statistical+Inference.jpg>"
      ]
    },
    {
      "cell_type": "markdown",
      "metadata": {
        "id": "zsb1KMUSc2xe",
        "colab_type": "text"
      },
      "source": [
        "## Hypothesis Testing (T-Tests)"
      ]
    },
    {
      "cell_type": "markdown",
      "metadata": {
        "id": "cOnNrJembf5c",
        "colab_type": "text"
      },
      "source": [
        "\n",
        "\n",
        "Ever thought about how long it takes to make a pancake? Have you ever compared the tooking time of a pancake on each eye of your stove? Is the cooking time different between the different eyes? Now, we can run an experiment and collect a sample of 1,000 pancakes on one eye and another 800 pancakes on the other eye. Assumed we used the same pan, batter, and technique on both eyes. Our average cooking times were 180 (5 std) and 178.5 (4.25 std) seconds repsectively. Now, we can tell those numbers are not identicial, but how confident are we that those numbers are practically the same? How do we know the slight difference isn't caused by some external randomness?\n",
        "\n",
        "Yes, today's lesson will help you figure out how long to cook your pancakes (*theoretically*). Experimentation is up to you; otherwise, you have to accept my data as true. How are going to accomplish this? With probability, statistics, inference and maple syrup (optional). \n",
        "\n",
        "<img src=\"https://images.unsplash.com/photo-1541288097308-7b8e3f58c4c6?ixlib=rb-1.2.1&ixid=eyJhcHBfaWQiOjEyMDd9&auto=format&fit=crop&w=3300&q=80\" width=400>\n",
        "\n"
      ]
    },
    {
      "cell_type": "markdown",
      "metadata": {
        "id": "MOkBDGsWbMRc",
        "colab_type": "text"
      },
      "source": [
        "## Normal Distribution Revisited\n",
        "\n",
        "What is the Normal distribution: A probability distribution of a continuous real valued random-variable. The Normal distribution properties make it useful for the *Central Limit Theorm*, because if we assume a variable follows the normal distribution, we can make certain conclusions based on probabilities."
      ]
    },
    {
      "cell_type": "code",
      "metadata": {
        "id": "BYlq8EYKbMRd",
        "colab_type": "code",
        "colab": {
          "base_uri": "https://localhost:8080/",
          "height": 1000
        },
        "outputId": "2fcea9d7-7537-4b22-8acf-08f716f53d86"
      },
      "source": [
        "import numpy as np\n",
        "\n",
        "mu = 180 # mean\n",
        "sigma = 5 # standard deviation\n",
        "\n",
        "sample1 = np.random.normal(mu, sigma, 1000)\n",
        "sample2 = np.random.normal(mu, sigma, 800)\n",
        "\n",
        "sample"
      ],
      "execution_count": 15,
      "outputs": [
        {
          "output_type": "execute_result",
          "data": {
            "text/plain": [
              "array([187.46471644, 178.85179476, 182.8028522 , 175.69116292,\n",
              "       178.47897576, 178.4069673 , 183.57369106, 187.21631082,\n",
              "       179.17968914, 175.35623534, 179.8577168 , 178.64420335,\n",
              "       177.19524249, 186.16685478, 181.67459214, 193.38797424,\n",
              "       178.57025217, 172.71503305, 182.0353786 , 183.08217081,\n",
              "       176.68658317, 179.38577236, 178.92991722, 172.98387737,\n",
              "       175.95471142, 187.78493999, 173.43789078, 175.42336381,\n",
              "       182.09520683, 184.17344945, 176.2718048 , 181.28348094,\n",
              "       182.42068814, 180.23511849, 174.27572147, 178.70024806,\n",
              "       176.03128217, 185.3584652 , 180.04887897, 179.30752397,\n",
              "       182.20261827, 182.48744277, 184.19681239, 167.73555559,\n",
              "       181.30778369, 173.97252733, 176.98097047, 168.30567204,\n",
              "       181.82230385, 181.45960887, 178.21245826, 181.05500756,\n",
              "       170.40452789, 174.24128325, 183.94085033, 187.13862392,\n",
              "       184.03221001, 180.00148992, 173.61585675, 185.53312962,\n",
              "       173.74340045, 174.63336188, 183.78176126, 173.99496582,\n",
              "       175.32083614, 173.84768438, 174.65608646, 173.43230934,\n",
              "       189.57827978, 174.50147324, 180.34126675, 182.97142185,\n",
              "       179.12734132, 174.65452695, 175.93065826, 172.05779818,\n",
              "       177.26923726, 178.53332946, 186.9644781 , 177.415684  ,\n",
              "       187.19189997, 175.2702369 , 185.04822083, 181.47661938,\n",
              "       184.2014982 , 172.4639587 , 175.04721937, 181.94494672,\n",
              "       170.95297626, 183.15353842, 180.60692002, 184.19598054,\n",
              "       181.27351069, 170.98088555, 182.10350375, 177.11458947,\n",
              "       184.61663131, 174.89922415, 179.03143756, 183.22962105,\n",
              "       185.1904637 , 181.87118599, 183.8700782 , 184.56146918,\n",
              "       188.33691083, 182.0699489 , 168.39896754, 177.58066525,\n",
              "       181.23214825, 182.51083217, 169.15785625, 187.17656616,\n",
              "       179.42798559, 178.14181774, 194.60627767, 182.09317188,\n",
              "       174.79986213, 169.6669712 , 184.97943039, 179.10745341,\n",
              "       185.85517269, 183.50043768, 179.08216919, 184.40013921,\n",
              "       183.29304092, 180.89036068, 177.43918652, 176.59201386,\n",
              "       182.89309197, 180.06265237, 170.70530756, 178.55407876,\n",
              "       173.94711708, 184.36736236, 171.37655743, 177.05833516,\n",
              "       168.26378315, 175.61549918, 176.25031795, 184.42631424,\n",
              "       183.40568785, 180.55491345, 181.53004099, 184.59499414,\n",
              "       174.36468678, 185.86439646, 181.74581124, 176.23687458,\n",
              "       174.14835571, 178.52128313, 172.72710184, 191.10040792,\n",
              "       179.87298424, 187.99221678, 183.6600214 , 179.855331  ,\n",
              "       173.50825396, 184.83833743, 175.69231446, 179.25915736,\n",
              "       180.49993204, 184.82493757, 178.74978241, 179.91993459,\n",
              "       181.66144207, 177.49272273, 181.06313148, 180.03811622,\n",
              "       179.48803307, 176.1024041 , 176.97390897, 182.82210955,\n",
              "       172.72753354, 187.79496121, 184.74976029, 174.95022151,\n",
              "       185.19679498, 179.58931414, 178.73783292, 176.06361188,\n",
              "       181.37299743, 179.51629555, 182.22228597, 177.60789471,\n",
              "       164.769737  , 180.3427233 , 178.21794536, 170.01668842,\n",
              "       176.7781403 , 177.3928904 , 175.30010363, 175.07223915,\n",
              "       178.0211596 , 185.25615352, 175.36035191, 177.13390444,\n",
              "       177.21940392, 185.14599126, 178.46022979, 173.59308981,\n",
              "       173.31411646, 182.88129441, 186.05238313, 179.36729868,\n",
              "       178.82558945, 175.37546692, 192.89105104, 185.45535354,\n",
              "       176.64712817, 180.51093415, 196.18613317, 187.06984709,\n",
              "       179.1354083 , 179.95737023, 183.93482654, 183.27883268,\n",
              "       187.46468133, 185.09087637, 181.64258308, 170.93399414,\n",
              "       182.54025457, 174.1166416 , 184.12001654, 187.93483319,\n",
              "       173.82180758, 182.42967273, 182.47146724, 179.58315033,\n",
              "       173.3817807 , 178.53688736, 182.06093233, 180.81195209,\n",
              "       178.53447685, 186.54918081, 184.32945549, 176.58834916,\n",
              "       177.2837974 , 184.39781068, 177.63043224, 177.93170937,\n",
              "       176.96989091, 176.56978441, 178.89488206, 174.37116099,\n",
              "       165.36215127, 178.07640553, 175.95208614, 185.12111334,\n",
              "       185.40397302, 187.61237967, 190.65460543, 173.72741868,\n",
              "       180.21488511, 177.85753647, 184.12019177, 185.62500815,\n",
              "       179.61421989, 178.6522661 , 182.74649762, 187.00786774,\n",
              "       181.09919142, 166.53427148, 189.02167402, 178.93550862,\n",
              "       179.51483053, 177.51404345, 180.50882448, 186.46459759,\n",
              "       180.10642079, 180.49275486, 185.88112688, 183.27317716,\n",
              "       192.24336374, 179.12976583, 184.13138473, 174.28243011,\n",
              "       180.36039579, 183.47753931, 179.42591217, 183.46729989,\n",
              "       179.20609256, 186.05145812, 168.35440484, 180.65979936,\n",
              "       185.84756745, 183.14506155, 181.84458347, 182.20250478,\n",
              "       181.46222343, 183.77660937, 179.32747184, 179.89587664,\n",
              "       181.79251918, 181.56617918, 178.61999792, 173.46701615,\n",
              "       179.52212353, 170.32112639, 173.24476168, 181.1530429 ,\n",
              "       178.28117738, 167.96068317, 181.13539171, 178.2208655 ,\n",
              "       187.8097252 , 182.2889233 , 180.88908611, 182.10632334,\n",
              "       186.94384719, 172.07718502, 180.59141128, 178.03209403,\n",
              "       177.18044725, 179.45789797, 179.84626764, 179.33850418,\n",
              "       182.86929607, 174.91367803, 173.91412579, 169.1403397 ,\n",
              "       180.11032342, 183.07422574, 176.10625112, 186.75118967,\n",
              "       179.24102247, 180.93842523, 182.74497389, 173.2346128 ,\n",
              "       183.14040569, 173.03416421, 183.8637924 , 175.31227858,\n",
              "       176.20354616, 178.50650025, 172.09143754, 172.19636842,\n",
              "       181.74440138, 177.4017202 , 179.67123609, 184.59366639,\n",
              "       185.95550914, 182.23091444, 187.99232946, 190.95558284,\n",
              "       176.70715152, 184.57307563, 187.49499546, 182.12133599,\n",
              "       173.84257599, 183.16541363, 173.64914399, 184.05730376,\n",
              "       177.25352209, 175.11922706, 174.51273632, 177.43786276,\n",
              "       172.10896556, 178.12000583, 177.02243253, 187.33490773,\n",
              "       181.17099143, 172.8911039 , 186.29485722, 172.63275575,\n",
              "       179.10057108, 181.00728422, 177.24043999, 175.03831486,\n",
              "       181.70565376, 182.4508051 , 177.77699771, 180.50718766,\n",
              "       178.54055981, 190.17770923, 169.84061669, 175.21776004,\n",
              "       185.06556602, 177.29705456, 176.96552686, 178.79555436,\n",
              "       186.70140036, 177.27691797, 172.58226846, 173.41194972,\n",
              "       174.25253663, 191.74092285, 177.35959869, 179.96267154,\n",
              "       180.4816765 , 176.26613529, 182.9544966 , 176.59701639,\n",
              "       189.67038034, 179.1030349 , 183.84369975, 181.74400372,\n",
              "       172.26890344, 178.95160125, 178.99499405, 176.33467677,\n",
              "       178.65167541, 171.64425002, 175.28232805, 183.63224843,\n",
              "       179.78618448, 184.54853474, 183.19800792, 181.047178  ,\n",
              "       171.16797749, 169.04827275, 183.31658581, 189.69629478,\n",
              "       187.22774379, 185.35898999, 175.3609529 , 181.36332554,\n",
              "       180.63844989, 187.00954074, 182.74527298, 190.13367327,\n",
              "       181.91237798, 177.17201099, 175.63405937, 177.70484666,\n",
              "       185.80662748, 180.2140407 , 181.73704316, 178.1668652 ,\n",
              "       174.73872364, 190.44775845, 178.38948018, 178.46369735,\n",
              "       174.45139121, 182.08174967, 186.01472428, 189.21629961,\n",
              "       176.79098885, 183.16334309, 176.49787459, 177.52200199,\n",
              "       165.04434682, 193.40262837, 167.74500752, 179.33602964,\n",
              "       183.2342217 , 184.76806556, 181.03546623, 179.55821881,\n",
              "       173.70221157, 175.9407169 , 174.5046507 , 180.65880386,\n",
              "       182.88473025, 181.19959249, 181.36545881, 185.97458052,\n",
              "       176.4070826 , 179.59076496, 179.85155075, 187.20105694,\n",
              "       189.29078476, 175.69147697, 181.64603397, 184.86027129,\n",
              "       185.00032128, 180.12300295, 180.055223  , 184.43864696,\n",
              "       179.1055665 , 187.17154841, 181.81898704, 173.95175644,\n",
              "       164.91947842, 182.58754686, 183.12422767, 180.04993351,\n",
              "       181.12289526, 174.3323066 , 183.0126866 , 188.41615182,\n",
              "       183.0125761 , 180.66546286, 180.35937196, 164.50886838,\n",
              "       194.91480102, 178.86594417, 174.64757526, 176.80027151,\n",
              "       179.51311641, 177.35104498, 180.4963368 , 178.57001933,\n",
              "       185.40681091, 176.45510905, 179.36831816, 181.68653089,\n",
              "       180.3504624 , 184.5681748 , 174.22519506, 182.38727573,\n",
              "       182.00350786, 176.74754901, 175.89821631, 178.67141247,\n",
              "       185.63045563, 178.85397185, 179.35851257, 189.18722759,\n",
              "       182.80571303, 177.22626101, 174.45091205, 180.7345055 ,\n",
              "       186.0776238 , 180.38335199, 176.76174938, 177.86065459,\n",
              "       180.54300162, 173.85895145, 180.90769483, 177.78299763,\n",
              "       169.38913077, 177.4641901 , 182.67272353, 180.5530992 ,\n",
              "       188.97963767, 177.35642914, 181.64816102, 178.9739435 ,\n",
              "       174.66603192, 184.47465959, 178.00684122, 180.25156297,\n",
              "       185.35887484, 177.65480714, 181.80605781, 176.93576126,\n",
              "       183.60232699, 171.47892087, 176.80973803, 180.79619136,\n",
              "       179.72445644, 184.55665063, 179.34756937, 176.41646798,\n",
              "       179.2489027 , 188.84067877, 173.89421097, 179.92246414,\n",
              "       178.53227025, 177.81074423, 173.832311  , 190.7216843 ,\n",
              "       180.73409063, 181.05184195, 175.67617551, 180.94808466,\n",
              "       176.1411523 , 183.07921601, 180.32717843, 177.95102776,\n",
              "       176.59700331, 183.81803222, 180.16788918, 176.49323843,\n",
              "       184.98942833, 172.81314639, 183.69865165, 174.60149655,\n",
              "       178.68831661, 179.99771148, 184.25471148, 170.75631637,\n",
              "       181.55645981, 175.14006305, 186.13166629, 188.45131056,\n",
              "       185.57760146, 177.61615072, 185.89868336, 182.77042442,\n",
              "       174.85865387, 180.21614337, 183.5643696 , 184.51115322,\n",
              "       181.50081407, 184.99882057, 176.7504177 , 193.75059925,\n",
              "       179.91610685, 176.80359209, 190.49081367, 180.09334203,\n",
              "       185.91173284, 184.29026304, 174.03995009, 176.63612548,\n",
              "       178.74266757, 173.17000341, 172.0959247 , 183.03212584,\n",
              "       181.53048174, 172.80845173, 181.27889618, 185.99945266,\n",
              "       174.77351551, 173.03364437, 175.9421036 , 179.88490255,\n",
              "       177.49439262, 180.33873913, 188.52460727, 178.33192893,\n",
              "       181.059141  , 184.24496687, 175.58148781, 182.63297163,\n",
              "       174.81108358, 180.92825389, 178.99594679, 179.56454735,\n",
              "       176.39064866, 180.38781422, 189.68531888, 184.18132718,\n",
              "       181.90518779, 174.85741501, 170.0330545 , 180.08952467,\n",
              "       187.03147999, 176.54825882, 184.45821766, 181.8902433 ,\n",
              "       180.07748698, 184.31304901, 184.27105201, 184.69729538,\n",
              "       185.21035045, 179.4358315 , 184.13506829, 175.97683102,\n",
              "       182.02016805, 181.62360587, 180.52598122, 182.01306694,\n",
              "       186.16396043, 167.97082903, 173.56664914, 186.03425028,\n",
              "       181.39832104, 175.63130685, 178.54012223, 176.47665684,\n",
              "       180.08736121, 183.44996842, 179.15017041, 185.06501965,\n",
              "       179.81862203, 183.20444606, 176.30097372, 177.39311038,\n",
              "       169.03188419, 179.54398686, 182.33478767, 186.92245197,\n",
              "       178.60726058, 181.94539471, 187.52751281, 179.67915037,\n",
              "       182.00751679, 185.29250994, 173.24470851, 181.55441737,\n",
              "       182.32122416, 182.51073794, 184.44227071, 180.6422438 ,\n",
              "       185.66263038, 178.46209449, 185.60800773, 175.72890433,\n",
              "       179.99968917, 179.22574065, 182.14413041, 183.54411467,\n",
              "       181.24216931, 181.97639834, 181.14482471, 181.46899072,\n",
              "       186.57999249, 171.03649053, 183.61487324, 179.005802  ,\n",
              "       181.58604658, 181.72419863, 181.84733399, 178.71250096,\n",
              "       179.53458893, 172.82089147, 178.47356122, 177.78235747,\n",
              "       182.42098937, 186.3677046 , 178.23339563, 180.50031631,\n",
              "       183.24721793, 182.895546  , 175.11301869, 183.77697535,\n",
              "       189.05486095, 171.41081922, 173.80614166, 183.15440369,\n",
              "       184.24429139, 179.64216092, 180.50645183, 172.74594846,\n",
              "       180.22189522, 178.11338514, 173.11596456, 183.95023733,\n",
              "       183.13042236, 183.37492235, 177.2873238 , 180.80388755,\n",
              "       178.55660715, 178.02596662, 175.18479786, 184.20732711,\n",
              "       176.72406638, 181.87964002, 178.15519158, 178.88796995,\n",
              "       170.14194366, 188.67043396, 186.64524765, 183.37154603,\n",
              "       179.17952392, 183.2401268 , 178.01558501, 170.73988033,\n",
              "       177.90777187, 185.47322895, 174.8808695 , 179.8947402 ,\n",
              "       178.20821622, 182.19591241, 180.22618485, 186.0047278 ,\n",
              "       174.98982082, 177.25022316, 184.67754912, 182.9270293 ,\n",
              "       172.88673517, 183.72702506, 188.10566442, 179.05486059,\n",
              "       175.88511037, 179.52920234, 173.1251811 , 172.38680256,\n",
              "       181.5419154 , 184.40754051, 179.71301799, 183.53043844,\n",
              "       192.04522366, 181.33565315, 172.31192294, 182.77516382,\n",
              "       177.21155106, 176.303366  , 171.69380243, 174.84066814,\n",
              "       188.43062064, 176.53026862, 176.24821291, 178.24687996,\n",
              "       177.31462643, 180.55824189, 182.51729613, 176.27276194,\n",
              "       178.37189752, 173.13376979, 183.2593832 , 183.24058119,\n",
              "       186.81573103, 170.89905932, 177.42152753, 186.1950981 ,\n",
              "       184.51877156, 177.15302735, 178.44183065, 181.38639856,\n",
              "       179.75331662, 171.44306471, 182.85062456, 188.66339096,\n",
              "       176.51268502, 187.07915632, 176.45609148, 177.66631175,\n",
              "       179.00576517, 178.43217168, 182.14452416, 188.95793671,\n",
              "       173.79369993, 179.00651486, 184.77116345, 179.3702486 ,\n",
              "       180.15826902, 177.8044231 , 177.10321489, 185.44451642,\n",
              "       179.21421569, 187.18958236, 179.34733492, 178.4574266 ,\n",
              "       173.40682421, 177.48723493, 179.961168  , 181.28850281,\n",
              "       181.25957646, 176.29551235, 168.59976647, 176.0727305 ,\n",
              "       178.75571192, 177.33627275, 172.36322703, 183.13791982,\n",
              "       190.81590604, 176.99218961, 176.97736189, 180.36519934,\n",
              "       174.86567169, 180.98747691, 176.73924147, 183.02251397,\n",
              "       183.94808281, 177.57776216, 175.24368653, 174.43078116,\n",
              "       185.19120177, 179.96869421, 178.77635862, 180.59363215,\n",
              "       185.46604143, 180.37530657, 172.70166806, 172.97279094,\n",
              "       173.51813084, 179.31743177, 175.03335994, 173.90757337,\n",
              "       183.51842998, 184.31610137, 178.35595016, 179.57822911,\n",
              "       181.20221364, 182.91243578, 179.11410352, 179.30041797,\n",
              "       183.73590574, 177.01340866, 173.74714321, 186.68527293,\n",
              "       182.68844001, 176.80183367, 178.48411348, 182.11936999,\n",
              "       184.84431841, 182.24406398, 178.89095884, 190.45834755,\n",
              "       185.88200367, 185.16961665, 183.30377852, 181.0929453 ,\n",
              "       177.89617744, 177.95655988, 178.66618933, 180.76707254,\n",
              "       183.33501426, 178.50585368, 179.01202094, 173.83354335,\n",
              "       166.47515606, 184.22783261, 185.13844926, 179.07178725,\n",
              "       180.89571406, 179.01864077, 177.87428184, 183.75956011,\n",
              "       177.62630168, 184.49249945, 179.11439378, 176.54629176,\n",
              "       172.62289609, 175.44765952, 177.95775049, 185.82810615,\n",
              "       185.14818034, 188.62102255, 178.188681  , 175.62385735,\n",
              "       178.81871687, 178.90022099, 181.3803386 , 189.96395394,\n",
              "       178.05976015, 181.1983288 , 174.33955755, 173.49699966,\n",
              "       184.12240153, 176.21038175, 172.8188011 , 187.8835702 ,\n",
              "       183.75797655, 182.74912642, 168.08891211, 181.2141793 ,\n",
              "       185.65916105, 176.47692227, 176.21478079, 177.29822629,\n",
              "       175.23803874, 180.4953823 , 180.6540069 , 180.23536409,\n",
              "       178.26057845, 170.58692788, 180.44161694, 178.13319334,\n",
              "       184.5028056 , 172.5436003 , 183.38457206, 175.30901364,\n",
              "       183.36625875, 178.51515505, 172.12690046, 180.72924455,\n",
              "       180.81905677, 190.41672596, 176.74408505, 171.36040121,\n",
              "       176.82622557, 188.13721462, 184.74599267, 168.33137153,\n",
              "       182.39979302, 177.2352636 , 173.67215445, 176.65627218,\n",
              "       181.89315271, 184.5113835 , 181.06050232, 170.35184121,\n",
              "       179.88335679, 180.40714209, 171.49656633, 187.72035033,\n",
              "       175.89536455, 171.00897807, 180.25950648, 172.75636432,\n",
              "       177.53989744, 173.37497645, 187.86004543, 182.38032648,\n",
              "       191.87345131, 177.00253635, 184.67642577, 181.87773953,\n",
              "       172.68860627, 177.07662917, 179.08720026, 168.73119792,\n",
              "       182.55956663, 192.08449328, 178.53295098, 182.31131989,\n",
              "       175.21527231, 181.29812106, 178.07944298, 176.7522964 ,\n",
              "       175.99132273, 169.13191444, 185.71674906, 184.47434029,\n",
              "       180.1373235 , 186.41046604, 172.00058082, 179.23102558,\n",
              "       183.7694854 , 186.2235744 , 186.7409786 , 186.72453726,\n",
              "       183.08444617, 186.32532833, 181.77501543, 190.52719404])"
            ]
          },
          "metadata": {
            "tags": []
          },
          "execution_count": 15
        }
      ]
    },
    {
      "cell_type": "code",
      "metadata": {
        "id": "POU0-SuQbMRh",
        "colab_type": "code",
        "outputId": "b4668ae0-955e-4a80-9ce8-0f946ccd275d",
        "colab": {
          "base_uri": "https://localhost:8080/",
          "height": 34
        }
      },
      "source": [
        "# Verify the mean of our sample\n",
        "\n",
        "np.mean(sample)\n",
        "\n",
        "abs(mu - np.mean(sample)) < 0.01"
      ],
      "execution_count": 12,
      "outputs": [
        {
          "output_type": "execute_result",
          "data": {
            "text/plain": [
              "False"
            ]
          },
          "metadata": {
            "tags": []
          },
          "execution_count": 12
        }
      ]
    },
    {
      "cell_type": "code",
      "metadata": {
        "id": "Ur3hGasTbMRl",
        "colab_type": "code",
        "outputId": "36dc486e-9eee-427b-c1cc-cbdc23964bcf",
        "colab": {}
      },
      "source": [
        "# Verify the variance of our sample\n",
        "abs(sigma - np.std(sample, ddof=1)) < 0.01"
      ],
      "execution_count": 0,
      "outputs": [
        {
          "output_type": "execute_result",
          "data": {
            "text/plain": [
              "True"
            ]
          },
          "metadata": {
            "tags": []
          },
          "execution_count": 13
        }
      ]
    },
    {
      "cell_type": "code",
      "metadata": {
        "id": "GbVV3_TsbMRn",
        "colab_type": "code",
        "outputId": "1670620a-9709-49fe-dd13-6ce84b65662c",
        "colab": {
          "base_uri": "https://localhost:8080/",
          "height": 299
        }
      },
      "source": [
        "import seaborn as sns\n",
        "from matplotlib import style\n",
        "\n",
        "style.use('fivethirtyeight')\n",
        "\n",
        "ax = sns.distplot(sample, color='r')\n",
        "ax.axvline(np.percentile(sample,97.5),0)\n",
        "ax.axvline(np.percentile(sample,2.5),0)"
      ],
      "execution_count": 13,
      "outputs": [
        {
          "output_type": "execute_result",
          "data": {
            "text/plain": [
              "<matplotlib.lines.Line2D at 0x7f7075ef5b00>"
            ]
          },
          "metadata": {
            "tags": []
          },
          "execution_count": 13
        },
        {
          "output_type": "display_data",
          "data": {
            "image/png": "[encoded data removed]",
            "text/plain": [
              "<Figure size 432x288 with 1 Axes>"
            ]
          },
          "metadata": {
            "tags": []
          }
        }
      ]
    },
    {
      "cell_type": "markdown",
      "metadata": {
        "id": "D3ZwR9tDc-KX",
        "colab_type": "text"
      },
      "source": [
        "![The Normal Distribution](https://upload.wikimedia.org/wikipedia/commons/thumb/a/a9/Empirical_Rule.PNG/350px-Empirical_Rule.png)"
      ]
    },
    {
      "cell_type": "code",
      "metadata": {
        "id": "Oydg4toufgHO",
        "colab_type": "code",
        "colab": {}
      },
      "source": [
        ""
      ],
      "execution_count": 0,
      "outputs": []
    },
    {
      "cell_type": "markdown",
      "metadata": {
        "id": "qE0HX-Nggo3P",
        "colab_type": "text"
      },
      "source": [
        "When we talk about the *population parameters*: we use $\\mu$ and $\\sigma$ for mean and standard deviation\n",
        "\n",
        "When we talk about the sample *sample statistics*\" we use x and s"
      ]
    },
    {
      "cell_type": "markdown",
      "metadata": {
        "id": "gqwDlePgfl6W",
        "colab_type": "text"
      },
      "source": [
        "# Our first 2-sample t-test (pancake example)\n",
        "\n",
        "1) Null Hypothesis\n",
        "$\\bar{x}_{1} == \\bar{x}_{2}$\n",
        "\n",
        "or that the average cooking times between the two burners is the same\n",
        "\n",
        "2) Alternative Hypothesis: (the opposite of the null)\n",
        "\n",
        "$\\bar{x}_{1} \\neq \\bar{x}_{2}$\n",
        "\n",
        "$\\bar{x}_{1}-\\bar{x}_{2} \\neq 0$\n",
        "\n",
        "3) Confidence level: The probability of seeing a true result in spite of random variability. (How often do I want to make sure that I'm right.) Typically: 95%, 99%, 99.9%"
      ]
    },
    {
      "cell_type": "code",
      "metadata": {
        "id": "5u69THk4hzJG",
        "colab_type": "code",
        "colab": {
          "base_uri": "https://localhost:8080/",
          "height": 34
        },
        "outputId": "29dbe2c0-c2e0-4963-ce32-b4707e4e9ba0"
      },
      "source": [
        "from scipy.stats import ttest_ind\n",
        "\n",
        "ttest_ind(sample1, sample2)"
      ],
      "execution_count": 21,
      "outputs": [
        {
          "output_type": "execute_result",
          "data": {
            "text/plain": [
              "Ttest_indResult(statistic=3.4138152722152926, pvalue=0.0006548188130454848)"
            ]
          },
          "metadata": {
            "tags": []
          },
          "execution_count": 21
        }
      ]
    },
    {
      "cell_type": "markdown",
      "metadata": {
        "id": "eTF_BiPKjmnt",
        "colab_type": "text"
      },
      "source": [
        "4) T Statistic: A value that falls along a t distribution.\n",
        " - A vertical bar that falls on out t-distribution\n",
        "\n",
        " 5) P-value: THe p-value that we're interested in is (1-confidence level) or in our case 0.05\n",
        " \n",
        " The probability of getting that test result (t-statistic) due to random chance\n",
        " \n",
        " THe probability of our null hypothesis being true\n",
        " \n",
        " 6) Conclusions\n",
        "\n",
        "Due to observing a t-statistic of 8.9 and a resulting p-value of 0.0000000000109, we reject the null hypothesis that the cooking times of these two burners is the same and suggest the alternative hypothesis that they are different.\n",
        "\n",
        "(Because our p-value was less than 0.05, we reject the null hypothesis)"
      ]
    },
    {
      "cell_type": "markdown",
      "metadata": {
        "id": "5BvYLMjadAnu",
        "colab_type": "text"
      },
      "source": [
        "# Why do we use the t-distribution in hypothesis tests?\n",
        "\n",
        "![t-distribution-low-dof](https://lambdachops.com/img/t-distribution-low-dof.png)\n",
        "\n",
        "![t-distribution-approximates-normal](https://github.com/ryanallredblog/ryanallredblog.github.io/blob/master/img/t-distribution-approximates-normal.png?raw=true)\n",
        "\n",
        "### Helpful video on why we use the t-distribution\n",
        "\n",
        "<https://www.youtube.com/watch?v=Uv6nGIgZMVw>\n",
        "\n",
        "However, in order to understand it you'll need to understand what a z-score is:\n",
        "\n",
        "A z-score calculates the number of standard deviations an observations lies from the population mean. The problem is that in real-world situations, we don't know what the sample mean is, so we have to turn to using the sample mean to estimate the population mean. Because the sample mean is generated from a sample and used to estimate the population mean with some level of uncertainty, it also has its own distribution a nd spread. This means that for low sample sizes both our estimates of the sample mean and sample population are not very precise, they're kind of spread out. It's this spread that makes the t-distribution wider than the normal distribution for low sample sizes. However, with the larger the sample size, the closer the t-distribution approximates the normal distribution.\n"
      ]
    },
    {
      "cell_type": "markdown",
      "metadata": {
        "colab_type": "text",
        "id": "FMhDKOFND0qY"
      },
      "source": [
        "## Student's T Test\n",
        "\n",
        ">Assuming data come from a Normal distribution, the t test provides a way to test whether the sample mean (that is the mean calculated from the data) is a good estimate of the population mean. \n",
        "\n",
        "The derivation of the t-distribution was first published in 1908 by William Gosset while working for the Guinness Brewery in Dublin. Due to proprietary issues, he had to publish under a pseudonym, and so he used the name Student.\n",
        "\n",
        "The t-distribution is essentially a distribution of means of normaly distributed data. When we use a t-statistic, we are  checking that a mean fails within a certain $\\alpha$ probability of the mean of means."
      ]
    },
    {
      "cell_type": "code",
      "metadata": {
        "colab_type": "code",
        "id": "fQ9rkLJmEbsk",
        "colab": {}
      },
      "source": [
        "t_df10 = np.random.standard_t(df=10, size=10)\n",
        "t_df100 = np.random.standard_t(df=100, size=100)\n",
        "t_df1000 = np.random.standard_t(df=1000, size=1000)"
      ],
      "execution_count": 0,
      "outputs": []
    },
    {
      "cell_type": "code",
      "metadata": {
        "colab_type": "code",
        "id": "RyNKPt_tJk86",
        "outputId": "db64f558-1945-4fef-f7d7-3184212d8237",
        "colab": {
          "base_uri": "https://localhost:8080/",
          "height": 70
        }
      },
      "source": [
        "sns.kdeplot(t_df10, color='r');\n",
        "sns.kdeplot(t_df100, color='y');\n",
        "sns.kdeplot(t_df1000, color='b');"
      ],
      "execution_count": 0,
      "outputs": [
        {
          "output_type": "display_data",
          "data": {
            "image/png": "[encoded data removed]",
            "text/plain": [
              "<Figure size 432x288 with 1 Axes>"
            ]
          },
          "metadata": {
            "tags": []
          }
        }
      ]
    },
    {
      "cell_type": "code",
      "metadata": {
        "colab_type": "code",
        "id": "seQv5unnJvpM",
        "outputId": "b2f84397-b204-4864-84a1-2b29eb926bbf",
        "colab": {
          "base_uri": "https://localhost:8080/",
          "height": 70
        }
      },
      "source": [
        "i = 10\n",
        "for sample in [t_df10, t_df100, t_df1000]:\n",
        "    print(f\"t - distribution with {i} degrees of freedom\")\n",
        "    print(\"---\" * 10)\n",
        "    print(f\"Mean: {sample.mean()}\")\n",
        "    print(f\"Standard Deviation: {sample.std()}\")\n",
        "    print(f\"Variance: {sample.var()}\")\n",
        "    i = i*10"
      ],
      "execution_count": 0,
      "outputs": [
        {
          "output_type": "stream",
          "text": [
            "t - distribution with 10 degrees of freedom\n",
            "------------------------------\n",
            "Mean: -0.31273998586964813\n",
            "Standard Deviation: 1.1501190874764438\n",
            "Variance: 1.3227739153776474\n",
            "t - distribution with 100 degrees of freedom\n",
            "------------------------------\n",
            "Mean: -0.08090662415049571\n",
            "Standard Deviation: 1.0383358313816349\n",
            "Variance: 1.0781412987309908\n",
            "t - distribution with 1000 degrees of freedom\n",
            "------------------------------\n",
            "Mean: 0.026011887125489363\n",
            "Standard Deviation: 0.9716065366464899\n",
            "Variance: 0.9440192620541868\n"
          ],
          "name": "stdout"
        }
      ]
    },
    {
      "cell_type": "markdown",
      "metadata": {
        "colab_type": "text",
        "id": "FOvEGMysLaE2"
      },
      "source": [
        "Why is it different from normal? To better reflect the tendencies of small data and situations with unknown population standard deviation. In other words, the normal distribution is still the nice pure ideal (thanks to the central limit theorem), but the t-distribution is much more useful in many real-world situations."
      ]
    },
    {
      "cell_type": "markdown",
      "metadata": {
        "colab_type": "text",
        "id": "1yx_QilAEC6o"
      },
      "source": [
        "## Live Lecture - let's perform and interpret a t-test\n",
        "\n",
        "We'll generate our own data, so we can know and alter the \"ground truth\" that the t-test should find. We will learn about p-values and how to interpret \"statistical significance\" based on the output of a hypothesis test. We will also dig a bit deeper into how the test statistic is calculated based on the sample error, and visually what it looks like to have 1 or 2 \"tailed\" t-tests."
      ]
    },
    {
      "cell_type": "code",
      "metadata": {
        "colab_type": "code",
        "id": "BuysRPs-Ed0v",
        "colab": {}
      },
      "source": [
        "# TODO - during class, but please help!\n",
        "from scipy.stats import ttest_ind, ttest_ind_from_stats, ttest_rel\n",
        "\n",
        "!wget http://archive.ics.uci.edu/"
      ],
      "execution_count": 0,
      "outputs": []
    },
    {
      "cell_type": "code",
      "metadata": {
        "id": "CNgJ6xRvnCbj",
        "colab_type": "code",
        "colab": {
          "base_uri": "https://localhost:8080/",
          "height": 462
        },
        "outputId": "d0d2a435-5b6b-4638-b0f4-88ba33c99c4e"
      },
      "source": [
        "column_headers = ['party','handicapped-infants','water-project',\n",
        "                          'budget','physician-fee-freeze', 'el-salvador-aid',\n",
        "                          'religious-groups','anti-satellite-ban',\n",
        "                          'aid-to-contras','mx-missile','immigration',\n",
        "                          'synfuels', 'education', 'right-to-sue','crime','duty-free',\n",
        "                          'south-africa']\n",
        "\n",
        "df=pd.read_csv('house-votes-84.data',header=None, names=column_headers, \n",
        "               na_values=\"?\")\n",
        "\n",
        "df.head()"
      ],
      "execution_count": 23,
      "outputs": [
        {
          "output_type": "error",
          "ename": "FileNotFoundError",
          "evalue": "ignored",
          "traceback": [
            "\u001b[0;31m---------------------------------------------------------------------------\u001b[0m",
            "\u001b[0;31mFileNotFoundError\u001b[0m                         Traceback (most recent call last)",
            "\u001b[0;32m<ipython-input-23-b5213ae66731>\u001b[0m in \u001b[0;36m<module>\u001b[0;34m()\u001b[0m\n\u001b[1;32m      7\u001b[0m \u001b[0;34m\u001b[0m\u001b[0m\n\u001b[1;32m      8\u001b[0m df=pd.read_csv('house-votes-84.data',header=None, names=column_headers, \n\u001b[0;32m----> 9\u001b[0;31m                na_values=\"?\")\n\u001b[0m\u001b[1;32m     10\u001b[0m \u001b[0;34m\u001b[0m\u001b[0m\n\u001b[1;32m     11\u001b[0m \u001b[0mdf\u001b[0m\u001b[0;34m.\u001b[0m\u001b[0mhead\u001b[0m\u001b[0;34m(\u001b[0m\u001b[0;34m)\u001b[0m\u001b[0;34m\u001b[0m\u001b[0;34m\u001b[0m\u001b[0m\n",
            "\u001b[0;32m/usr/local/lib/python3.6/dist-packages/pandas/io/parsers.py\u001b[0m in \u001b[0;36mparser_f\u001b[0;34m(filepath_or_buffer, sep, delimiter, header, names, index_col, usecols, squeeze, prefix, mangle_dupe_cols, dtype, engine, converters, true_values, false_values, skipinitialspace, skiprows, skipfooter, nrows, na_values, keep_default_na, na_filter, verbose, skip_blank_lines, parse_dates, infer_datetime_format, keep_date_col, date_parser, dayfirst, cache_dates, iterator, chunksize, compression, thousands, decimal, lineterminator, quotechar, quoting, doublequote, escapechar, comment, encoding, dialect, error_bad_lines, warn_bad_lines, delim_whitespace, low_memory, memory_map, float_precision)\u001b[0m\n\u001b[1;32m    683\u001b[0m         )\n\u001b[1;32m    684\u001b[0m \u001b[0;34m\u001b[0m\u001b[0m\n\u001b[0;32m--> 685\u001b[0;31m         \u001b[0;32mreturn\u001b[0m \u001b[0m_read\u001b[0m\u001b[0;34m(\u001b[0m\u001b[0mfilepath_or_buffer\u001b[0m\u001b[0;34m,\u001b[0m \u001b[0mkwds\u001b[0m\u001b[0;34m)\u001b[0m\u001b[0;34m\u001b[0m\u001b[0;34m\u001b[0m\u001b[0m\n\u001b[0m\u001b[1;32m    686\u001b[0m \u001b[0;34m\u001b[0m\u001b[0m\n\u001b[1;32m    687\u001b[0m     \u001b[0mparser_f\u001b[0m\u001b[0;34m.\u001b[0m\u001b[0m__name__\u001b[0m \u001b[0;34m=\u001b[0m \u001b[0mname\u001b[0m\u001b[0;34m\u001b[0m\u001b[0;34m\u001b[0m\u001b[0m\n",
            "\u001b[0;32m/usr/local/lib/python3.6/dist-packages/pandas/io/parsers.py\u001b[0m in \u001b[0;36m_read\u001b[0;34m(filepath_or_buffer, kwds)\u001b[0m\n\u001b[1;32m    455\u001b[0m \u001b[0;34m\u001b[0m\u001b[0m\n\u001b[1;32m    456\u001b[0m     \u001b[0;31m# Create the parser.\u001b[0m\u001b[0;34m\u001b[0m\u001b[0;34m\u001b[0m\u001b[0;34m\u001b[0m\u001b[0m\n\u001b[0;32m--> 457\u001b[0;31m     \u001b[0mparser\u001b[0m \u001b[0;34m=\u001b[0m \u001b[0mTextFileReader\u001b[0m\u001b[0;34m(\u001b[0m\u001b[0mfp_or_buf\u001b[0m\u001b[0;34m,\u001b[0m \u001b[0;34m**\u001b[0m\u001b[0mkwds\u001b[0m\u001b[0;34m)\u001b[0m\u001b[0;34m\u001b[0m\u001b[0;34m\u001b[0m\u001b[0m\n\u001b[0m\u001b[1;32m    458\u001b[0m \u001b[0;34m\u001b[0m\u001b[0m\n\u001b[1;32m    459\u001b[0m     \u001b[0;32mif\u001b[0m \u001b[0mchunksize\u001b[0m \u001b[0;32mor\u001b[0m \u001b[0miterator\u001b[0m\u001b[0;34m:\u001b[0m\u001b[0;34m\u001b[0m\u001b[0;34m\u001b[0m\u001b[0m\n",
            "\u001b[0;32m/usr/local/lib/python3.6/dist-packages/pandas/io/parsers.py\u001b[0m in \u001b[0;36m__init__\u001b[0;34m(self, f, engine, **kwds)\u001b[0m\n\u001b[1;32m    893\u001b[0m             \u001b[0mself\u001b[0m\u001b[0;34m.\u001b[0m\u001b[0moptions\u001b[0m\u001b[0;34m[\u001b[0m\u001b[0;34m\"has_index_names\"\u001b[0m\u001b[0;34m]\u001b[0m \u001b[0;34m=\u001b[0m \u001b[0mkwds\u001b[0m\u001b[0;34m[\u001b[0m\u001b[0;34m\"has_index_names\"\u001b[0m\u001b[0;34m]\u001b[0m\u001b[0;34m\u001b[0m\u001b[0;34m\u001b[0m\u001b[0m\n\u001b[1;32m    894\u001b[0m \u001b[0;34m\u001b[0m\u001b[0m\n\u001b[0;32m--> 895\u001b[0;31m         \u001b[0mself\u001b[0m\u001b[0;34m.\u001b[0m\u001b[0m_make_engine\u001b[0m\u001b[0;34m(\u001b[0m\u001b[0mself\u001b[0m\u001b[0;34m.\u001b[0m\u001b[0mengine\u001b[0m\u001b[0;34m)\u001b[0m\u001b[0;34m\u001b[0m\u001b[0;34m\u001b[0m\u001b[0m\n\u001b[0m\u001b[1;32m    896\u001b[0m \u001b[0;34m\u001b[0m\u001b[0m\n\u001b[1;32m    897\u001b[0m     \u001b[0;32mdef\u001b[0m \u001b[0mclose\u001b[0m\u001b[0;34m(\u001b[0m\u001b[0mself\u001b[0m\u001b[0;34m)\u001b[0m\u001b[0;34m:\u001b[0m\u001b[0;34m\u001b[0m\u001b[0;34m\u001b[0m\u001b[0m\n",
            "\u001b[0;32m/usr/local/lib/python3.6/dist-packages/pandas/io/parsers.py\u001b[0m in \u001b[0;36m_make_engine\u001b[0;34m(self, engine)\u001b[0m\n\u001b[1;32m   1133\u001b[0m     \u001b[0;32mdef\u001b[0m \u001b[0m_make_engine\u001b[0m\u001b[0;34m(\u001b[0m\u001b[0mself\u001b[0m\u001b[0;34m,\u001b[0m \u001b[0mengine\u001b[0m\u001b[0;34m=\u001b[0m\u001b[0;34m\"c\"\u001b[0m\u001b[0;34m)\u001b[0m\u001b[0;34m:\u001b[0m\u001b[0;34m\u001b[0m\u001b[0;34m\u001b[0m\u001b[0m\n\u001b[1;32m   1134\u001b[0m         \u001b[0;32mif\u001b[0m \u001b[0mengine\u001b[0m \u001b[0;34m==\u001b[0m \u001b[0;34m\"c\"\u001b[0m\u001b[0;34m:\u001b[0m\u001b[0;34m\u001b[0m\u001b[0;34m\u001b[0m\u001b[0m\n\u001b[0;32m-> 1135\u001b[0;31m             \u001b[0mself\u001b[0m\u001b[0;34m.\u001b[0m\u001b[0m_engine\u001b[0m \u001b[0;34m=\u001b[0m \u001b[0mCParserWrapper\u001b[0m\u001b[0;34m(\u001b[0m\u001b[0mself\u001b[0m\u001b[0;34m.\u001b[0m\u001b[0mf\u001b[0m\u001b[0;34m,\u001b[0m \u001b[0;34m**\u001b[0m\u001b[0mself\u001b[0m\u001b[0;34m.\u001b[0m\u001b[0moptions\u001b[0m\u001b[0;34m)\u001b[0m\u001b[0;34m\u001b[0m\u001b[0;34m\u001b[0m\u001b[0m\n\u001b[0m\u001b[1;32m   1136\u001b[0m         \u001b[0;32melse\u001b[0m\u001b[0;34m:\u001b[0m\u001b[0;34m\u001b[0m\u001b[0;34m\u001b[0m\u001b[0m\n\u001b[1;32m   1137\u001b[0m             \u001b[0;32mif\u001b[0m \u001b[0mengine\u001b[0m \u001b[0;34m==\u001b[0m \u001b[0;34m\"python\"\u001b[0m\u001b[0;34m:\u001b[0m\u001b[0;34m\u001b[0m\u001b[0;34m\u001b[0m\u001b[0m\n",
            "\u001b[0;32m/usr/local/lib/python3.6/dist-packages/pandas/io/parsers.py\u001b[0m in \u001b[0;36m__init__\u001b[0;34m(self, src, **kwds)\u001b[0m\n\u001b[1;32m   1915\u001b[0m         \u001b[0mkwds\u001b[0m\u001b[0;34m[\u001b[0m\u001b[0;34m\"usecols\"\u001b[0m\u001b[0;34m]\u001b[0m \u001b[0;34m=\u001b[0m \u001b[0mself\u001b[0m\u001b[0;34m.\u001b[0m\u001b[0musecols\u001b[0m\u001b[0;34m\u001b[0m\u001b[0;34m\u001b[0m\u001b[0m\n\u001b[1;32m   1916\u001b[0m \u001b[0;34m\u001b[0m\u001b[0m\n\u001b[0;32m-> 1917\u001b[0;31m         \u001b[0mself\u001b[0m\u001b[0;34m.\u001b[0m\u001b[0m_reader\u001b[0m \u001b[0;34m=\u001b[0m \u001b[0mparsers\u001b[0m\u001b[0;34m.\u001b[0m\u001b[0mTextReader\u001b[0m\u001b[0;34m(\u001b[0m\u001b[0msrc\u001b[0m\u001b[0;34m,\u001b[0m \u001b[0;34m**\u001b[0m\u001b[0mkwds\u001b[0m\u001b[0;34m)\u001b[0m\u001b[0;34m\u001b[0m\u001b[0;34m\u001b[0m\u001b[0m\n\u001b[0m\u001b[1;32m   1918\u001b[0m         \u001b[0mself\u001b[0m\u001b[0;34m.\u001b[0m\u001b[0munnamed_cols\u001b[0m \u001b[0;34m=\u001b[0m \u001b[0mself\u001b[0m\u001b[0;34m.\u001b[0m\u001b[0m_reader\u001b[0m\u001b[0;34m.\u001b[0m\u001b[0munnamed_cols\u001b[0m\u001b[0;34m\u001b[0m\u001b[0;34m\u001b[0m\u001b[0m\n\u001b[1;32m   1919\u001b[0m \u001b[0;34m\u001b[0m\u001b[0m\n",
            "\u001b[0;32mpandas/_libs/parsers.pyx\u001b[0m in \u001b[0;36mpandas._libs.parsers.TextReader.__cinit__\u001b[0;34m()\u001b[0m\n",
            "\u001b[0;32mpandas/_libs/parsers.pyx\u001b[0m in \u001b[0;36mpandas._libs.parsers.TextReader._setup_parser_source\u001b[0;34m()\u001b[0m\n",
            "\u001b[0;31mFileNotFoundError\u001b[0m: [Errno 2] File b'house-votes-84.data' does not exist: b'house-votes-84.data'"
          ]
        }
      ]
    },
    {
      "cell_type": "code",
      "metadata": {
        "id": "GlDM3d1pnlYQ",
        "colab_type": "code",
        "colab": {}
      },
      "source": [
        "df=df.replace({'y':1, 'n':0})\n",
        "\n",
        "df.head()"
      ],
      "execution_count": 0,
      "outputs": []
    },
    {
      "cell_type": "code",
      "metadata": {
        "id": "tUYiFddGnxwl",
        "colab_type": "code",
        "colab": {}
      },
      "source": [
        "df['party']=value_counts()"
      ],
      "execution_count": 0,
      "outputs": []
    },
    {
      "cell_type": "code",
      "metadata": {
        "id": "2u94QY3sn2Mu",
        "colab_type": "code",
        "colab": {}
      },
      "source": [
        "rep = df[df['party']=='republican']\n",
        "rep.head()"
      ],
      "execution_count": 0,
      "outputs": []
    },
    {
      "cell_type": "code",
      "metadata": {
        "id": "pIj3GJLcn89q",
        "colab_type": "code",
        "colab": {}
      },
      "source": [
        "dem = df[df['party']=='democrat']\n",
        "dem.head()"
      ],
      "execution_count": 0,
      "outputs": []
    },
    {
      "cell_type": "code",
      "metadata": {
        "id": "UNh7l7eUolmh",
        "colab_type": "code",
        "colab": {}
      },
      "source": [
        "rep['handicapped-infants'].sum()/len(rep)\n",
        "\n",
        "#len is counting NaN values too"
      ],
      "execution_count": 0,
      "outputs": []
    },
    {
      "cell_type": "code",
      "metadata": {
        "id": "JINaVDHUoJVN",
        "colab_type": "code",
        "colab": {
          "base_uri": "https://localhost:8080/",
          "height": 231
        },
        "outputId": "1f79141c-d17d-4153-beee-e2d3e74b254a"
      },
      "source": [
        "#Percentage of republicans who voted \"yes\"\n",
        "#on the handicapped-infants bill\n",
        "\n",
        "rep['handicapped-infants'].mean()\n",
        "\n",
        "col = rep['handicapped-infants']\n",
        "\n",
        "np.isnan(col)\n",
        "\n",
        "handicapped_infants_no_nans = col[~np.isnan(col)]\n",
        "\n",
        "handicapped_infants_no_nans\n",
        "\n",
        "handicapped_infants_no_nans.sum()/len(handicapped_infants_no_nans)\n",
        "\n"
      ],
      "execution_count": 24,
      "outputs": [
        {
          "output_type": "error",
          "ename": "NameError",
          "evalue": "ignored",
          "traceback": [
            "\u001b[0;31m---------------------------------------------------------------------------\u001b[0m",
            "\u001b[0;31mNameError\u001b[0m                                 Traceback (most recent call last)",
            "\u001b[0;32m<ipython-input-24-8cccbff8d80b>\u001b[0m in \u001b[0;36m<module>\u001b[0;34m()\u001b[0m\n\u001b[1;32m      1\u001b[0m \u001b[0;34m\u001b[0m\u001b[0m\n\u001b[0;32m----> 2\u001b[0;31m \u001b[0mrep\u001b[0m\u001b[0;34m[\u001b[0m\u001b[0;34m'handicapped-infants'\u001b[0m\u001b[0;34m]\u001b[0m\u001b[0;34m.\u001b[0m\u001b[0mmean\u001b[0m\u001b[0;34m(\u001b[0m\u001b[0;34m)\u001b[0m\u001b[0;34m\u001b[0m\u001b[0;34m\u001b[0m\u001b[0m\n\u001b[0m\u001b[1;32m      3\u001b[0m \u001b[0;34m\u001b[0m\u001b[0m\n\u001b[1;32m      4\u001b[0m \u001b[0mcol\u001b[0m \u001b[0;34m=\u001b[0m \u001b[0mrep\u001b[0m\u001b[0;34m[\u001b[0m\u001b[0;34m'handicapped-infants'\u001b[0m\u001b[0;34m]\u001b[0m\u001b[0;34m\u001b[0m\u001b[0;34m\u001b[0m\u001b[0m\n\u001b[1;32m      5\u001b[0m \u001b[0;34m\u001b[0m\u001b[0m\n",
            "\u001b[0;31mNameError\u001b[0m: name 'rep' is not defined"
          ]
        }
      ]
    },
    {
      "cell_type": "markdown",
      "metadata": {
        "id": "5W33P1w0qYd2",
        "colab_type": "text"
      },
      "source": [
        "#Lets look at the water projects bill\n",
        "\n",
        "1) Null Hypothesis: There is no difference between voting rates (levels of support) for the 'water projects' bill between democrats and republicans in the house of representatives. (support is equal)\n",
        "\n",
        "$\\bar{x}_{1} == \\bar{x}_{x}$\n",
        "\n",
        "Where $\\bar{x}_{1}$ is the mean of the republican votes and $\\bar{x}_{2}$ is the mean of the Democrat votes.\n",
        "\n",
        "2) Alternative hypthesis: \n",
        "\n",
        "$\\bar{x}_{1} \\neq \\bar{x}_{2}$\n",
        "\n",
        "Levels of support between the two parties will differ.\n",
        "\n",
        "3) 95% confidence level"
      ]
    },
    {
      "cell_type": "code",
      "metadata": {
        "id": "inRH_gH0s5nw",
        "colab_type": "code",
        "colab": {
          "base_uri": "https://localhost:8080/",
          "height": 34
        },
        "outputId": "948990eb-79e2-4284-cf16-7001cfcf2b40"
      },
      "source": [
        "rep['water-project'].mean()"
      ],
      "execution_count": 1,
      "outputs": [
        {
          "output_type": "stream",
          "text": [
            "Couldn't evaluate or find in history: ['water-project'].mean()\n"
          ],
          "name": "stdout"
        }
      ]
    },
    {
      "cell_type": "code",
      "metadata": {
        "id": "g9NMy9vWs5Ni",
        "colab_type": "code",
        "colab": {}
      },
      "source": [
        "dem['water-project'].mean()"
      ],
      "execution_count": 0,
      "outputs": []
    },
    {
      "cell_type": "code",
      "metadata": {
        "id": "O6OKFttisYS6",
        "colab_type": "code",
        "colab": {
          "base_uri": "https://localhost:8080/",
          "height": 163
        },
        "outputId": "2fc9d13e-0461-4b50-d750-2b650df318cf"
      },
      "source": [
        "ttest_ind(rep['water-project'], dem['water-project'], nan_policy='omit')"
      ],
      "execution_count": 25,
      "outputs": [
        {
          "output_type": "error",
          "ename": "NameError",
          "evalue": "ignored",
          "traceback": [
            "\u001b[0;31m---------------------------------------------------------------------------\u001b[0m",
            "\u001b[0;31mNameError\u001b[0m                                 Traceback (most recent call last)",
            "\u001b[0;32m<ipython-input-25-43eb01bcef00>\u001b[0m in \u001b[0;36m<module>\u001b[0;34m()\u001b[0m\n\u001b[0;32m----> 1\u001b[0;31m \u001b[0mttest_ind\u001b[0m\u001b[0;34m(\u001b[0m\u001b[0mrep\u001b[0m\u001b[0;34m[\u001b[0m\u001b[0;34m'water-project'\u001b[0m\u001b[0;34m]\u001b[0m\u001b[0;34m,\u001b[0m \u001b[0mdem\u001b[0m\u001b[0;34m[\u001b[0m\u001b[0;34m'water-project'\u001b[0m\u001b[0;34m]\u001b[0m\u001b[0;34m)\u001b[0m\u001b[0;34m\u001b[0m\u001b[0;34m\u001b[0m\u001b[0m\n\u001b[0m",
            "\u001b[0;31mNameError\u001b[0m: name 'rep' is not defined"
          ]
        }
      ]
    },
    {
      "cell_type": "code",
      "metadata": {
        "id": "5ICmM30KtUgD",
        "colab_type": "code",
        "colab": {}
      },
      "source": [
        "#Remove the NaN values from this column\n",
        "\n",
        "col = rep['water-project']\n",
        "rep_water_project_no_nans = col[-np.isnan(col)]\n",
        "\n",
        "col=dem['water-project']\n",
        "dem_water_project_no_nans = col[-np.isnan(col)]\n",
        "\n",
        "#My sample sizes for the samples\n",
        "print(len(rep_water_project_no_nans))\n",
        "print(len(dem_water_project_no_nans))"
      ],
      "execution_count": 0,
      "outputs": []
    },
    {
      "cell_type": "markdown",
      "metadata": {
        "id": "Qv10E5n7urvy",
        "colab_type": "text"
      },
      "source": [
        "4) T-statistic: 0.089\n",
        "\n",
        "5) P-value: 0.929\n",
        "\n",
        "I want to reject the null hypothesis if my p-value is <0.05 or if my p-value is less than (1-confidence level)\n",
        "\n",
        "Conclusion: due to a p-value of .929 I fail to reject the null hypothesis that republican and democrat support for the water-project bill is different.\n",
        "\n",
        "I never say that I \"accept\" the null hypothesis , I just say that I \"fail to reject\""
      ]
    },
    {
      "cell_type": "markdown",
      "metadata": {
        "id": "HqHqV3WnwCIu",
        "colab_type": "text"
      },
      "source": [
        "#1-sample T-test example\n",
        "\n",
        "I'm only using one sample and my null hypothesis will be different.\n",
        "\n",
        "We're looking at Democrat support of the South Africa bill\n",
        "\n",
        "1a) Null Hypothesis:\n",
        "\n",
        "$\\bar{x}_{1}$ (average dem support for SA bill) ==1\n",
        "\n",
        "This says that 100% of democrats support this bill.  Full support.\n",
        "\n",
        "1b) Null Hypothesis:\n",
        "\n",
        "$\\bar{x}_{1}$ (average dem support for SA bill) = 0.5\n",
        "\n",
        "$\\bar{x}_{1}$ (average dem support for SA bill) == 0\n",
        "\n",
        "This says that 0% of democrats support this bill.  The party is against the bill.\n",
        "\n",
        "1c) Null Hypothesis\n",
        "\n",
        "\\bar{x}_{1} (average dem support for SA bill) ==0\n",
        "\n",
        "This says that 0% of democrats support this bill.  The party is against the bill.\n",
        "\n",
        "1d) Null Hypothesis:\n",
        "\n",
        "$\\bar{x}_{1}$ (average dem support for SA bill) == .78245\n",
        "\n",
        "This says that 0% of democrats support this bill.  The party is against the bill.\n",
        "\n",
        "With 1-sample t-tests I can frame that I'm asking through my choice of null hypothesis"
      ]
    },
    {
      "cell_type": "markdown",
      "metadata": {
        "id": "2jJUh1U9xniP",
        "colab_type": "text"
      },
      "source": [
        "1) Null Hypothesis: $\\bar{x}_{1}$ (average dem support for SA bill) == .5\n",
        "\n",
        "THis saus that 50% of democrats support this bill.  THe party is split.\n",
        "\n",
        "2) Alternative Hypothesis: Support is not equal to .5 of 50%\n",
        "\n",
        "$\\bar{x}_{1}$ (average dem support for SA bill) =/= 5\n",
        "\n",
        "This says nothing about if support is greater than or less than 50%, it's just saying that it's not 50%, it's different, it's something other than 50%.\n",
        "\n",
        "3) Confidence level: 95%"
      ]
    },
    {
      "cell_type": "code",
      "metadata": {
        "id": "-DZIHT6_yiGC",
        "colab_type": "code",
        "colab": {}
      },
      "source": [
        "from scipy import ttest_lsamp"
      ],
      "execution_count": 0,
      "outputs": []
    },
    {
      "cell_type": "code",
      "metadata": {
        "id": "5Z4sXVZdyl85",
        "colab_type": "code",
        "colab": {}
      },
      "source": [
        "ttest_lsamp(dem['south-africa'],.5,nan_policy='omit')"
      ],
      "execution_count": 0,
      "outputs": []
    },
    {
      "cell_type": "code",
      "metadata": {
        "id": "KR-N5MMhywUD",
        "colab_type": "code",
        "colab": {}
      },
      "source": [
        "dem['south-africa'].mean()"
      ],
      "execution_count": 0,
      "outputs": []
    },
    {
      "cell_type": "code",
      "metadata": {
        "id": "TxWCqSCfy17e",
        "colab_type": "code",
        "colab": {}
      },
      "source": [
        "ttest_lsamp(dem['south-africa'],.9,nan_policy='omit')"
      ],
      "execution_count": 0,
      "outputs": []
    },
    {
      "cell_type": "markdown",
      "metadata": {
        "id": "zDXfbzM4y9-T",
        "colab_type": "text"
      },
      "source": [
        "Fail to reject the null hypothesis.\n",
        "\n",
        "I conclude that that democrat support for the South Africa bill is not significantly differnt from 90%."
      ]
    },
    {
      "cell_type": "code",
      "metadata": {
        "id": "SeckZ5I-zUzc",
        "colab_type": "code",
        "colab": {}
      },
      "source": [
        "ttest_lsamp(dem['south-africa'], .899, nan_policy='omit')"
      ],
      "execution_count": 0,
      "outputs": []
    },
    {
      "cell_type": "markdown",
      "metadata": {
        "colab_type": "text",
        "id": "wiq83guLcuAE"
      },
      "source": [
        "# Resources\n",
        "\n",
        "- https://homepage.divms.uiowa.edu/~mbognar/applets/t.html\n",
        "- https://rpsychologist.com/d3/tdist/\n",
        "- https://gallery.shinyapps.io/tdist/\n",
        "- https://en.wikipedia.org/wiki/Standard_deviation#Sample_standard_deviation_of_metabolic_rate_of_northern_fulmars\n",
        "- https://www.khanacademy.org/math/ap-statistics/two-sample-inference/two-sample-t-test-means/v/two-sample-t-test-for-difference-of-means"
      ]
    }
  ]
}